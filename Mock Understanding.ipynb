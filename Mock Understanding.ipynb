{
 "cells": [
  {
   "cell_type": "code",
   "execution_count": 2,
   "id": "dca52041",
   "metadata": {},
   "outputs": [],
   "source": [
    "from unittest.mock import Mock\n",
    "\n",
    "mock = Mock()\n",
    "json = mock "
   ]
  },
  {
   "cell_type": "code",
   "execution_count": 4,
   "id": "2b15cb8b",
   "metadata": {},
   "outputs": [
    {
     "data": {
      "text/plain": [
       "<Mock name='mock.dumps()' id='4457885904'>"
      ]
     },
     "execution_count": 4,
     "metadata": {},
     "output_type": "execute_result"
    }
   ],
   "source": [
    "# Unlike the real dumps(), this mocked method requires no arguments. In fact, it will accept any arguments that you pass to it.\n",
    "\n",
    "json.dumps()\n",
    "\n",
    "# The return value of dumps() is also a Mock. The capability of Mock to recursively define other mocks allows for you to use mocks in complex situations:"
   ]
  },
  {
   "cell_type": "code",
   "execution_count": 5,
   "id": "c0324a4c",
   "metadata": {},
   "outputs": [
    {
     "data": {
      "text/plain": [
       "<Mock name='mock.loads().get()' id='4457694976'>"
      ]
     },
     "execution_count": 5,
     "metadata": {},
     "output_type": "execute_result"
    }
   ],
   "source": [
    "json.loads('{\"k\": \"v\"}').get('k')"
   ]
  },
  {
   "cell_type": "code",
   "execution_count": 6,
   "id": "f99aec71",
   "metadata": {},
   "outputs": [],
   "source": [
    "json.loads.assert_called()"
   ]
  },
  {
   "cell_type": "code",
   "execution_count": 7,
   "id": "eec4e720",
   "metadata": {},
   "outputs": [],
   "source": [
    "json.loads.assert_called_once()"
   ]
  },
  {
   "cell_type": "code",
   "execution_count": 8,
   "id": "d9985e4d",
   "metadata": {},
   "outputs": [
    {
     "ename": "AssertionError",
     "evalue": "expected call not found.\nExpected: loads('{\"key\": \"value\"}')\nActual: loads('{\"k\": \"v\"}')",
     "output_type": "error",
     "traceback": [
      "\u001b[0;31m---------------------------------------------------------------------------\u001b[0m",
      "\u001b[0;31mAssertionError\u001b[0m                            Traceback (most recent call last)",
      "Input \u001b[0;32mIn [8]\u001b[0m, in \u001b[0;36m<module>\u001b[0;34m\u001b[0m\n\u001b[0;32m----> 1\u001b[0m \u001b[43mjson\u001b[49m\u001b[38;5;241;43m.\u001b[39;49m\u001b[43mloads\u001b[49m\u001b[38;5;241;43m.\u001b[39;49m\u001b[43massert_called_with\u001b[49m\u001b[43m(\u001b[49m\u001b[38;5;124;43m'\u001b[39;49m\u001b[38;5;124;43m{\u001b[39;49m\u001b[38;5;124;43m\"\u001b[39;49m\u001b[38;5;124;43mkey\u001b[39;49m\u001b[38;5;124;43m\"\u001b[39;49m\u001b[38;5;124;43m: \u001b[39;49m\u001b[38;5;124;43m\"\u001b[39;49m\u001b[38;5;124;43mvalue\u001b[39;49m\u001b[38;5;124;43m\"\u001b[39;49m\u001b[38;5;124;43m}\u001b[39;49m\u001b[38;5;124;43m'\u001b[39;49m\u001b[43m)\u001b[49m\n",
      "File \u001b[0;32m/usr/local/Cellar/python@3.9/3.9.10/Frameworks/Python.framework/Versions/3.9/lib/python3.9/unittest/mock.py:907\u001b[0m, in \u001b[0;36mNonCallableMock.assert_called_with\u001b[0;34m(self, *args, **kwargs)\u001b[0m\n\u001b[1;32m    905\u001b[0m \u001b[38;5;28;01mif\u001b[39;00m actual \u001b[38;5;241m!=\u001b[39m expected:\n\u001b[1;32m    906\u001b[0m     cause \u001b[38;5;241m=\u001b[39m expected \u001b[38;5;28;01mif\u001b[39;00m \u001b[38;5;28misinstance\u001b[39m(expected, \u001b[38;5;167;01mException\u001b[39;00m) \u001b[38;5;28;01melse\u001b[39;00m \u001b[38;5;28;01mNone\u001b[39;00m\n\u001b[0;32m--> 907\u001b[0m     \u001b[38;5;28;01mraise\u001b[39;00m \u001b[38;5;167;01mAssertionError\u001b[39;00m(_error_message()) \u001b[38;5;28;01mfrom\u001b[39;00m \u001b[38;5;21;01mcause\u001b[39;00m\n",
      "\u001b[0;31mAssertionError\u001b[0m: expected call not found.\nExpected: loads('{\"key\": \"value\"}')\nActual: loads('{\"k\": \"v\"}')"
     ]
    }
   ],
   "source": [
    "# let's make it give an error cause it is waiting that the call happened with '{\"k\": \"v\"}'\n",
    "json.loads.assert_called_with('{\"key\": \"value\"}')"
   ]
  },
  {
   "cell_type": "code",
   "execution_count": 11,
   "id": "fa3446a2",
   "metadata": {},
   "outputs": [
    {
     "data": {
      "text/plain": [
       "<Mock name='mock.loads().get()' id='4457694976'>"
      ]
     },
     "execution_count": 11,
     "metadata": {},
     "output_type": "execute_result"
    }
   ],
   "source": [
    "json.loads('{\"k\": \"v\"}').get('k')"
   ]
  },
  {
   "cell_type": "code",
   "execution_count": 12,
   "id": "42f9d9ae",
   "metadata": {},
   "outputs": [
    {
     "ename": "AssertionError",
     "evalue": "Expected 'loads' to be called once. Called 2 times.\nCalls: [call('{\"k\": \"v\"}'), call().get('k'), call('{\"k\": \"v\"}'), call().get('k')].",
     "output_type": "error",
     "traceback": [
      "\u001b[0;31m---------------------------------------------------------------------------\u001b[0m",
      "\u001b[0;31mAssertionError\u001b[0m                            Traceback (most recent call last)",
      "Input \u001b[0;32mIn [12]\u001b[0m, in \u001b[0;36m<module>\u001b[0;34m\u001b[0m\n\u001b[0;32m----> 1\u001b[0m \u001b[43mjson\u001b[49m\u001b[38;5;241;43m.\u001b[39;49m\u001b[43mloads\u001b[49m\u001b[38;5;241;43m.\u001b[39;49m\u001b[43massert_called_once_with\u001b[49m\u001b[43m(\u001b[49m\u001b[38;5;124;43m'\u001b[39;49m\u001b[38;5;124;43m{\u001b[39;49m\u001b[38;5;124;43m\"\u001b[39;49m\u001b[38;5;124;43mk\u001b[39;49m\u001b[38;5;124;43m\"\u001b[39;49m\u001b[38;5;124;43m: \u001b[39;49m\u001b[38;5;124;43m\"\u001b[39;49m\u001b[38;5;124;43mv\u001b[39;49m\u001b[38;5;124;43m\"\u001b[39;49m\u001b[38;5;124;43m}\u001b[39;49m\u001b[38;5;124;43m'\u001b[39;49m\u001b[43m)\u001b[49m\n",
      "File \u001b[0;32m/usr/local/Cellar/python@3.9/3.9.10/Frameworks/Python.framework/Versions/3.9/lib/python3.9/unittest/mock.py:918\u001b[0m, in \u001b[0;36mNonCallableMock.assert_called_once_with\u001b[0;34m(self, *args, **kwargs)\u001b[0m\n\u001b[1;32m    913\u001b[0m \u001b[38;5;28;01mif\u001b[39;00m \u001b[38;5;129;01mnot\u001b[39;00m \u001b[38;5;28mself\u001b[39m\u001b[38;5;241m.\u001b[39mcall_count \u001b[38;5;241m==\u001b[39m \u001b[38;5;241m1\u001b[39m:\n\u001b[1;32m    914\u001b[0m     msg \u001b[38;5;241m=\u001b[39m (\u001b[38;5;124m\"\u001b[39m\u001b[38;5;124mExpected \u001b[39m\u001b[38;5;124m'\u001b[39m\u001b[38;5;132;01m%s\u001b[39;00m\u001b[38;5;124m'\u001b[39m\u001b[38;5;124m to be called once. Called \u001b[39m\u001b[38;5;132;01m%s\u001b[39;00m\u001b[38;5;124m times.\u001b[39m\u001b[38;5;132;01m%s\u001b[39;00m\u001b[38;5;124m\"\u001b[39m\n\u001b[1;32m    915\u001b[0m            \u001b[38;5;241m%\u001b[39m (\u001b[38;5;28mself\u001b[39m\u001b[38;5;241m.\u001b[39m_mock_name \u001b[38;5;129;01mor\u001b[39;00m \u001b[38;5;124m'\u001b[39m\u001b[38;5;124mmock\u001b[39m\u001b[38;5;124m'\u001b[39m,\n\u001b[1;32m    916\u001b[0m               \u001b[38;5;28mself\u001b[39m\u001b[38;5;241m.\u001b[39mcall_count,\n\u001b[1;32m    917\u001b[0m               \u001b[38;5;28mself\u001b[39m\u001b[38;5;241m.\u001b[39m_calls_repr()))\n\u001b[0;32m--> 918\u001b[0m     \u001b[38;5;28;01mraise\u001b[39;00m \u001b[38;5;167;01mAssertionError\u001b[39;00m(msg)\n\u001b[1;32m    919\u001b[0m \u001b[38;5;28;01mreturn\u001b[39;00m \u001b[38;5;28mself\u001b[39m\u001b[38;5;241m.\u001b[39massert_called_with(\u001b[38;5;241m*\u001b[39margs, \u001b[38;5;241m*\u001b[39m\u001b[38;5;241m*\u001b[39mkwargs)\n",
      "\u001b[0;31mAssertionError\u001b[0m: Expected 'loads' to be called once. Called 2 times.\nCalls: [call('{\"k\": \"v\"}'), call().get('k'), call('{\"k\": \"v\"}'), call().get('k')]."
     ]
    }
   ],
   "source": [
    "json.loads.assert_called_once_with('{\"k\": \"v\"}')"
   ]
  },
  {
   "cell_type": "code",
   "execution_count": 15,
   "id": "01eba448",
   "metadata": {},
   "outputs": [
    {
     "ename": "AssertionError",
     "evalue": "expected call not found.\nExpected: loads('{\"key\": \"value\"}')\nActual: loads(s='{\"key\": \"value\"}')",
     "output_type": "error",
     "traceback": [
      "\u001b[0;31m---------------------------------------------------------------------------\u001b[0m",
      "\u001b[0;31mAssertionError\u001b[0m                            Traceback (most recent call last)",
      "Input \u001b[0;32mIn [15]\u001b[0m, in \u001b[0;36m<module>\u001b[0;34m\u001b[0m\n\u001b[1;32m      1\u001b[0m json\u001b[38;5;241m.\u001b[39mloads(s\u001b[38;5;241m=\u001b[39m\u001b[38;5;124m'\u001b[39m\u001b[38;5;124m{\u001b[39m\u001b[38;5;124m\"\u001b[39m\u001b[38;5;124mkey\u001b[39m\u001b[38;5;124m\"\u001b[39m\u001b[38;5;124m: \u001b[39m\u001b[38;5;124m\"\u001b[39m\u001b[38;5;124mvalue\u001b[39m\u001b[38;5;124m\"\u001b[39m\u001b[38;5;124m}\u001b[39m\u001b[38;5;124m'\u001b[39m)\n\u001b[0;32m----> 2\u001b[0m \u001b[43mjson\u001b[49m\u001b[38;5;241;43m.\u001b[39;49m\u001b[43mloads\u001b[49m\u001b[38;5;241;43m.\u001b[39;49m\u001b[43massert_called_with\u001b[49m\u001b[43m(\u001b[49m\u001b[38;5;124;43m'\u001b[39;49m\u001b[38;5;124;43m{\u001b[39;49m\u001b[38;5;124;43m\"\u001b[39;49m\u001b[38;5;124;43mkey\u001b[39;49m\u001b[38;5;124;43m\"\u001b[39;49m\u001b[38;5;124;43m: \u001b[39;49m\u001b[38;5;124;43m\"\u001b[39;49m\u001b[38;5;124;43mvalue\u001b[39;49m\u001b[38;5;124;43m\"\u001b[39;49m\u001b[38;5;124;43m}\u001b[39;49m\u001b[38;5;124;43m'\u001b[39;49m\u001b[43m)\u001b[49m\n",
      "File \u001b[0;32m/usr/local/Cellar/python@3.9/3.9.10/Frameworks/Python.framework/Versions/3.9/lib/python3.9/unittest/mock.py:907\u001b[0m, in \u001b[0;36mNonCallableMock.assert_called_with\u001b[0;34m(self, *args, **kwargs)\u001b[0m\n\u001b[1;32m    905\u001b[0m \u001b[38;5;28;01mif\u001b[39;00m actual \u001b[38;5;241m!=\u001b[39m expected:\n\u001b[1;32m    906\u001b[0m     cause \u001b[38;5;241m=\u001b[39m expected \u001b[38;5;28;01mif\u001b[39;00m \u001b[38;5;28misinstance\u001b[39m(expected, \u001b[38;5;167;01mException\u001b[39;00m) \u001b[38;5;28;01melse\u001b[39;00m \u001b[38;5;28;01mNone\u001b[39;00m\n\u001b[0;32m--> 907\u001b[0m     \u001b[38;5;28;01mraise\u001b[39;00m \u001b[38;5;167;01mAssertionError\u001b[39;00m(_error_message()) \u001b[38;5;28;01mfrom\u001b[39;00m \u001b[38;5;21;01mcause\u001b[39;00m\n",
      "\u001b[0;31mAssertionError\u001b[0m: expected call not found.\nExpected: loads('{\"key\": \"value\"}')\nActual: loads(s='{\"key\": \"value\"}')"
     ]
    }
   ],
   "source": [
    "# positional argument\n",
    "json.loads(s='{\"key\": \"value\"}')\n",
    "\n",
    "# key word argument\n",
    "json.loads.assert_called_with('{\"key\": \"value\"}')"
   ]
  },
  {
   "cell_type": "code",
   "execution_count": 16,
   "id": "247fbd79",
   "metadata": {},
   "outputs": [
    {
     "data": {
      "text/plain": [
       "5"
      ]
     },
     "execution_count": 16,
     "metadata": {},
     "output_type": "execute_result"
    }
   ],
   "source": [
    "# how many time your application called loads\n",
    "json.loads.call_count"
   ]
  },
  {
   "cell_type": "code",
   "execution_count": 17,
   "id": "0b6af63e",
   "metadata": {},
   "outputs": [
    {
     "data": {
      "text/plain": [
       "call(s='{\"key\": \"value\"}')"
      ]
     },
     "execution_count": 17,
     "metadata": {},
     "output_type": "execute_result"
    }
   ],
   "source": [
    "# last arguments given\n",
    "json.loads.call_args"
   ]
  },
  {
   "cell_type": "code",
   "execution_count": 18,
   "id": "2ccc04e9",
   "metadata": {},
   "outputs": [
    {
     "data": {
      "text/plain": [
       "[call('{\"k\": \"v\"}'),\n",
       " call('{\"k\": \"v\"}'),\n",
       " call(s='{\"key\": \"value\"}'),\n",
       " call(s='{\"key\": \"value\"}'),\n",
       " call(s='{\"key\": \"value\"}')]"
      ]
     },
     "execution_count": 18,
     "metadata": {},
     "output_type": "execute_result"
    }
   ],
   "source": [
    "# list of every call of loads method\n",
    "json.loads.call_args_list"
   ]
  },
  {
   "cell_type": "code",
   "execution_count": 19,
   "id": "680d8a29",
   "metadata": {},
   "outputs": [
    {
     "data": {
      "text/plain": [
       "[call.do_something(),\n",
       " call.dumps(),\n",
       " call.loads('{\"k\": \"v\"}'),\n",
       " call.loads('{\"k\": \"v\"}'),\n",
       " call.loads(s='{\"key\": \"value\"}'),\n",
       " call.loads(s='{\"key\": \"value\"}'),\n",
       " call.loads(s='{\"key\": \"value\"}')]"
      ]
     },
     "execution_count": 19,
     "metadata": {},
     "output_type": "execute_result"
    }
   ],
   "source": [
    "# list of every call of json object\n",
    "json.method_calls"
   ]
  },
  {
   "cell_type": "markdown",
   "id": "995e03b0",
   "metadata": {},
   "source": [
    "# Return value role \n",
    "\n",
    "\n",
    "One reason to use mocks is to control your code’s behavior during tests. One way to do this is to specify a function’s return value. Let’s use an example to see how this works.\n",
    "\n"
   ]
  },
  {
   "cell_type": "code",
   "execution_count": null,
   "id": "13c8b705",
   "metadata": {},
   "outputs": [],
   "source": [
    "# create a file named my_calendar.py\n",
    "\n",
    "# paste this code in it \n",
    "\n",
    "from datetime import datetime\n",
    "\n",
    "def is_weekday():\n",
    "    today = datetime.today()\n",
    "    # Python's datetime library treats Monday as 0 and Sunday as 6\n",
    "    # sunday & saturday are off\n",
    "    return (0 <= today.weekday() < 5)\n",
    "\n",
    "# Test if today is a weekday\n",
    "assert is_weekday()"
   ]
  },
  {
   "cell_type": "raw",
   "id": "e8747e01",
   "metadata": {},
   "source": [
    "You can also control the test return values so you have more reliable testing "
   ]
  },
  {
   "cell_type": "code",
   "execution_count": 20,
   "id": "d74ac5d4",
   "metadata": {},
   "outputs": [],
   "source": [
    "\n",
    "import datetime\n",
    "from unittest.mock import Mock\n",
    "\n",
    "# Save a couple of test days\n",
    "tuesday = datetime.datetime(year=2019, month=1, day=1)\n",
    "saturday = datetime.datetime(year=2019, month=1, day=5)\n",
    "\n",
    "# Mock datetime to control today's date\n",
    "datetime = Mock()\n",
    "\n",
    "def is_weekday():\n",
    "    today = datetime.datetime.today()\n",
    "    # Python's datetime library treats Monday as 0 and Sunday as 6\n",
    "    return (0 <= today.weekday() < 5)\n",
    "\n",
    "\n",
    "\n",
    "# Mock .today() to return Tuesday\n",
    "datetime.datetime.today.return_value = tuesday\n",
    "# Test Tuesday is a weekday\n",
    "assert is_weekday()\n",
    "# Mock .today() to return Saturday\n",
    "datetime.datetime.today.return_value = saturday\n",
    "# Test Saturday is not a weekday\n",
    "assert not is_weekday()"
   ]
  },
  {
   "cell_type": "raw",
   "id": "5cd36bfe",
   "metadata": {},
   "source": [
    " Add new function to my calendar"
   ]
  },
  {
   "cell_type": "code",
   "execution_count": null,
   "id": "86c424c0",
   "metadata": {},
   "outputs": [],
   "source": [
    "..."
   ]
  },
  {
   "cell_type": "raw",
   "id": "286e6d36",
   "metadata": {},
   "source": [
    " make the function return mock fake response \n",
    " \n",
    " side_effects represents what the return should be!"
   ]
  },
  {
   "cell_type": "code",
   "execution_count": null,
   "id": "b6e2984f",
   "metadata": {},
   "outputs": [],
   "source": [
    "import requests\n",
    "import unittest\n",
    "from unittest.mock import Mock\n",
    "\n",
    "# Mock requests to control its behavior\n",
    "requests = Mock()\n",
    "\n",
    "def get_holidays():\n",
    "    r = requests.get('http://localhost/api/holidays')\n",
    "    if r.status_code == 200:\n",
    "        return r.json()\n",
    "    return None\n",
    "\n",
    "class TestCalendar(unittest.TestCase):\n",
    "    def log_request(self, url):\n",
    "        # Log a fake request for test output purposes\n",
    "        print(f'Making a request to {url}.')\n",
    "        print('Request received!')\n",
    "\n",
    "        # Create a new Mock to imitate a Response\n",
    "        response_mock = Mock()\n",
    "        response_mock.status_code = 200\n",
    "        response_mock.json.return_value = {\n",
    "            '12/25': 'Christmas',\n",
    "            '7/4': 'Independence Day',\n",
    "        }\n",
    "        return response_mock\n",
    "\n",
    "    def test_get_holidays_logging(self):\n",
    "        # Test a successful, logged request\n",
    "        requests.get.side_effect = self.log_request\n",
    "        assert get_holidays()['12/25'] == 'Christmas'\n",
    "\n",
    "if __name__ == '__main__':\n",
    "    unittest.main()"
   ]
  },
  {
   "cell_type": "raw",
   "id": "7d126d36",
   "metadata": {},
   "source": [
    "Side_effect can return iterable \n",
    "So each time you call it it gives the next element int the list "
   ]
  },
  {
   "cell_type": "code",
   "execution_count": 23,
   "id": "564935db",
   "metadata": {},
   "outputs": [],
   "source": [
    "import unittest\n",
    "from requests.exceptions import Timeout\n",
    "from unittest.mock import Mock\n",
    "\n",
    "# Mock requests to control its behavior\n",
    "requests = Mock()\n",
    "\n",
    "def get_holidays():\n",
    "    r = requests.get('http://localhost/api/holidays')\n",
    "    if r.status_code == 200:\n",
    "        return r.json()\n",
    "    return None\n",
    "\n",
    "class TestCalendar(unittest.TestCase):\n",
    "    def test_get_holidays_retry(self):\n",
    "        # Create a new Mock to imitate a Response\n",
    "        response_mock = Mock()\n",
    "        response_mock.status_code = 200\n",
    "        response_mock.json.return_value = {\n",
    "            '12/25': 'Christmas',\n",
    "            '7/4': 'Independence Day',\n",
    "        }\n",
    "        # Set the side effect of .get()\n",
    "        requests.get.side_effect = [Timeout, response_mock]\n",
    "        # Test that the first request raises a Timeout\n",
    "        with self.assertRaises(Timeout):\n",
    "            get_holidays()\n",
    "        # Now retry, expecting a successful response\n",
    "        assert get_holidays()['12/25'] == 'Christmas'\n",
    "        # Finally, assert .get() was called twice\n",
    "        assert requests.get.call_count == 2\n",
    "\n",
    "\n",
    "if __name__ == '__main__':\n",
    "    unittest.main()"
   ]
  },
  {
   "cell_type": "raw",
   "id": "d5b4c1db",
   "metadata": {},
   "source": [
    "Mock returns can be configurable upon the creation "
   ]
  },
  {
   "cell_type": "code",
   "execution_count": 27,
   "id": "46093f1d",
   "metadata": {},
   "outputs": [],
   "source": [
    "mock = Mock(side_effect=Exception)"
   ]
  },
  {
   "cell_type": "code",
   "execution_count": 29,
   "id": "58b88378",
   "metadata": {},
   "outputs": [
    {
     "ename": "Exception",
     "evalue": "",
     "output_type": "error",
     "traceback": [
      "\u001b[0;31m---------------------------------------------------------------------------\u001b[0m",
      "\u001b[0;31mException\u001b[0m                                 Traceback (most recent call last)",
      "Input \u001b[0;32mIn [29]\u001b[0m, in \u001b[0;36m<module>\u001b[0;34m\u001b[0m\n\u001b[0;32m----> 1\u001b[0m \u001b[43mmock\u001b[49m\u001b[43m(\u001b[49m\u001b[43m)\u001b[49m\n",
      "File \u001b[0;32m/usr/local/Cellar/python@3.9/3.9.10/Frameworks/Python.framework/Versions/3.9/lib/python3.9/unittest/mock.py:1092\u001b[0m, in \u001b[0;36mCallableMixin.__call__\u001b[0;34m(self, *args, **kwargs)\u001b[0m\n\u001b[1;32m   1090\u001b[0m \u001b[38;5;28mself\u001b[39m\u001b[38;5;241m.\u001b[39m_mock_check_sig(\u001b[38;5;241m*\u001b[39margs, \u001b[38;5;241m*\u001b[39m\u001b[38;5;241m*\u001b[39mkwargs)\n\u001b[1;32m   1091\u001b[0m \u001b[38;5;28mself\u001b[39m\u001b[38;5;241m.\u001b[39m_increment_mock_call(\u001b[38;5;241m*\u001b[39margs, \u001b[38;5;241m*\u001b[39m\u001b[38;5;241m*\u001b[39mkwargs)\n\u001b[0;32m-> 1092\u001b[0m \u001b[38;5;28;01mreturn\u001b[39;00m \u001b[38;5;28;43mself\u001b[39;49m\u001b[38;5;241;43m.\u001b[39;49m\u001b[43m_mock_call\u001b[49m\u001b[43m(\u001b[49m\u001b[38;5;241;43m*\u001b[39;49m\u001b[43margs\u001b[49m\u001b[43m,\u001b[49m\u001b[43m \u001b[49m\u001b[38;5;241;43m*\u001b[39;49m\u001b[38;5;241;43m*\u001b[39;49m\u001b[43mkwargs\u001b[49m\u001b[43m)\u001b[49m\n",
      "File \u001b[0;32m/usr/local/Cellar/python@3.9/3.9.10/Frameworks/Python.framework/Versions/3.9/lib/python3.9/unittest/mock.py:1096\u001b[0m, in \u001b[0;36mCallableMixin._mock_call\u001b[0;34m(self, *args, **kwargs)\u001b[0m\n\u001b[1;32m   1095\u001b[0m \u001b[38;5;28;01mdef\u001b[39;00m \u001b[38;5;21m_mock_call\u001b[39m(\u001b[38;5;28mself\u001b[39m, \u001b[38;5;241m/\u001b[39m, \u001b[38;5;241m*\u001b[39margs, \u001b[38;5;241m*\u001b[39m\u001b[38;5;241m*\u001b[39mkwargs):\n\u001b[0;32m-> 1096\u001b[0m     \u001b[38;5;28;01mreturn\u001b[39;00m \u001b[38;5;28;43mself\u001b[39;49m\u001b[38;5;241;43m.\u001b[39;49m\u001b[43m_execute_mock_call\u001b[49m\u001b[43m(\u001b[49m\u001b[38;5;241;43m*\u001b[39;49m\u001b[43margs\u001b[49m\u001b[43m,\u001b[49m\u001b[43m \u001b[49m\u001b[38;5;241;43m*\u001b[39;49m\u001b[38;5;241;43m*\u001b[39;49m\u001b[43mkwargs\u001b[49m\u001b[43m)\u001b[49m\n",
      "File \u001b[0;32m/usr/local/Cellar/python@3.9/3.9.10/Frameworks/Python.framework/Versions/3.9/lib/python3.9/unittest/mock.py:1151\u001b[0m, in \u001b[0;36mCallableMixin._execute_mock_call\u001b[0;34m(self, *args, **kwargs)\u001b[0m\n\u001b[1;32m   1149\u001b[0m \u001b[38;5;28;01mif\u001b[39;00m effect \u001b[38;5;129;01mis\u001b[39;00m \u001b[38;5;129;01mnot\u001b[39;00m \u001b[38;5;28;01mNone\u001b[39;00m:\n\u001b[1;32m   1150\u001b[0m     \u001b[38;5;28;01mif\u001b[39;00m _is_exception(effect):\n\u001b[0;32m-> 1151\u001b[0m         \u001b[38;5;28;01mraise\u001b[39;00m effect\n\u001b[1;32m   1152\u001b[0m     \u001b[38;5;28;01melif\u001b[39;00m \u001b[38;5;129;01mnot\u001b[39;00m _callable(effect):\n\u001b[1;32m   1153\u001b[0m         result \u001b[38;5;241m=\u001b[39m \u001b[38;5;28mnext\u001b[39m(effect)\n",
      "\u001b[0;31mException\u001b[0m: "
     ]
    }
   ],
   "source": [
    "mock()"
   ]
  },
  {
   "cell_type": "code",
   "execution_count": 30,
   "id": "5960a3dd",
   "metadata": {},
   "outputs": [],
   "source": [
    "# you can also set name \n",
    "\n",
    "mock = Mock(name=\"mock python\")"
   ]
  },
  {
   "cell_type": "code",
   "execution_count": 32,
   "id": "e5cabcda",
   "metadata": {},
   "outputs": [
    {
     "data": {
      "text/plain": [
       "<Mock name='mock python ' id='4482145008'>"
      ]
     },
     "execution_count": 32,
     "metadata": {},
     "output_type": "execute_result"
    }
   ],
   "source": [
    "mock"
   ]
  },
  {
   "cell_type": "raw",
   "id": "a676557b",
   "metadata": {},
   "source": [
    "you can also use\n",
    "configure_mock()"
   ]
  },
  {
   "cell_type": "code",
   "execution_count": 33,
   "id": "339c78a9",
   "metadata": {},
   "outputs": [],
   "source": [
    "mock = Mock()\n",
    "mock.configure_mock(return_value=True)"
   ]
  },
  {
   "cell_type": "code",
   "execution_count": 34,
   "id": "00b8b102",
   "metadata": {},
   "outputs": [
    {
     "data": {
      "text/plain": [
       "True"
      ]
     },
     "execution_count": 34,
     "metadata": {},
     "output_type": "execute_result"
    }
   ],
   "source": [
    "mock()"
   ]
  },
  {
   "cell_type": "code",
   "execution_count": 35,
   "id": "185fc531",
   "metadata": {},
   "outputs": [],
   "source": [
    "# Verbose, old Mock\n",
    "response_mock = Mock()\n",
    "response_mock.json.return_value = {\n",
    "    '12/25': 'Christmas',\n",
    "    '7/4': 'Independence Day',\n",
    "}\n",
    "\n",
    "# Shiny, new .configure_mock()\n",
    "holidays = {'12/25': 'Christmas', '7/4': 'Independence Day'}\n",
    "response_mock = Mock(**{'json.return_value': holidays})"
   ]
  },
  {
   "cell_type": "markdown",
   "id": "39659dbc",
   "metadata": {},
   "source": [
    "# Patch using "
   ]
  },
  {
   "cell_type": "markdown",
   "id": "d6db7540",
   "metadata": {},
   "source": [
    "Referencing where you want to mock object does make a difference Notice"
   ]
  },
  {
   "cell_type": "code",
   "execution_count": 2,
   "id": "9c8250bc",
   "metadata": {},
   "outputs": [
    {
     "name": "stdout",
     "output_type": "stream",
     "text": [
      "<MagicMock name='is_weekday()' id='4506189104'>\n"
     ]
    }
   ],
   "source": [
    "import my_calendar\n",
    "from unittest.mock import patch\n",
    "\n",
    "with patch('my_calendar.is_weekday'):\n",
    "    print(my_calendar.is_weekday())\n",
    "    \n",
    "    "
   ]
  },
  {
   "cell_type": "code",
   "execution_count": 3,
   "id": "acdf2e93",
   "metadata": {},
   "outputs": [
    {
     "name": "stdout",
     "output_type": "stream",
     "text": [
      "False\n"
     ]
    }
   ],
   "source": [
    "from unittest.mock import patch\n",
    "from my_calendar import is_weekday\n",
    "\n",
    "with patch('my_calendar.is_weekday'):\n",
    "    print(is_weekday())"
   ]
  },
  {
   "cell_type": "code",
   "execution_count": 4,
   "id": "50508767",
   "metadata": {},
   "outputs": [
    {
     "name": "stdout",
     "output_type": "stream",
     "text": [
      "<MagicMock name='is_weekday()' id='4506205200'>\n"
     ]
    }
   ],
   "source": [
    "from unittest.mock import patch\n",
    "from my_calendar import is_weekday\n",
    "\n",
    "with patch('__main__.is_weekday'):\n",
    "    print(is_weekday())"
   ]
  },
  {
   "cell_type": "raw",
   "id": "b6fb7590",
   "metadata": {},
   "source": [
    "Inforce the mock object to have specific attributes instead of creating them when trying to access"
   ]
  },
  {
   "cell_type": "code",
   "execution_count": 1,
   "id": "717c1420",
   "metadata": {},
   "outputs": [
    {
     "data": {
      "text/plain": [
       "<Mock name='mock.is_weekday()' id='4600091648'>"
      ]
     },
     "execution_count": 1,
     "metadata": {},
     "output_type": "execute_result"
    }
   ],
   "source": [
    "from unittest.mock import Mock\n",
    "\n",
    "calendar = Mock(spec=['is_weekday', 'get_holidays'])\n",
    "calendar.is_weekday()"
   ]
  },
  {
   "cell_type": "code",
   "execution_count": 2,
   "id": "1ca52b4d",
   "metadata": {},
   "outputs": [
    {
     "ename": "AttributeError",
     "evalue": "Mock object has no attribute 'create_event'",
     "output_type": "error",
     "traceback": [
      "\u001b[0;31m---------------------------------------------------------------------------\u001b[0m",
      "\u001b[0;31mAttributeError\u001b[0m                            Traceback (most recent call last)",
      "Input \u001b[0;32mIn [2]\u001b[0m, in \u001b[0;36m<module>\u001b[0;34m\u001b[0m\n\u001b[0;32m----> 1\u001b[0m \u001b[43mcalendar\u001b[49m\u001b[38;5;241;43m.\u001b[39;49m\u001b[43mcreate_event\u001b[49m()\n",
      "File \u001b[0;32m/usr/local/Cellar/python@3.9/3.9.10/Frameworks/Python.framework/Versions/3.9/lib/python3.9/unittest/mock.py:630\u001b[0m, in \u001b[0;36mNonCallableMock.__getattr__\u001b[0;34m(self, name)\u001b[0m\n\u001b[1;32m    628\u001b[0m \u001b[38;5;28;01melif\u001b[39;00m \u001b[38;5;28mself\u001b[39m\u001b[38;5;241m.\u001b[39m_mock_methods \u001b[38;5;129;01mis\u001b[39;00m \u001b[38;5;129;01mnot\u001b[39;00m \u001b[38;5;28;01mNone\u001b[39;00m:\n\u001b[1;32m    629\u001b[0m     \u001b[38;5;28;01mif\u001b[39;00m name \u001b[38;5;129;01mnot\u001b[39;00m \u001b[38;5;129;01min\u001b[39;00m \u001b[38;5;28mself\u001b[39m\u001b[38;5;241m.\u001b[39m_mock_methods \u001b[38;5;129;01mor\u001b[39;00m name \u001b[38;5;129;01min\u001b[39;00m _all_magics:\n\u001b[0;32m--> 630\u001b[0m         \u001b[38;5;28;01mraise\u001b[39;00m \u001b[38;5;167;01mAttributeError\u001b[39;00m(\u001b[38;5;124m\"\u001b[39m\u001b[38;5;124mMock object has no attribute \u001b[39m\u001b[38;5;132;01m%r\u001b[39;00m\u001b[38;5;124m\"\u001b[39m \u001b[38;5;241m%\u001b[39m name)\n\u001b[1;32m    631\u001b[0m \u001b[38;5;28;01melif\u001b[39;00m _is_magic(name):\n\u001b[1;32m    632\u001b[0m     \u001b[38;5;28;01mraise\u001b[39;00m \u001b[38;5;167;01mAttributeError\u001b[39;00m(name)\n",
      "\u001b[0;31mAttributeError\u001b[0m: Mock object has no attribute 'create_event'"
     ]
    }
   ],
   "source": [
    "calendar.create_event()"
   ]
  },
  {
   "cell_type": "code",
   "execution_count": null,
   "id": "04903fd8",
   "metadata": {},
   "outputs": [],
   "source": []
  }
 ],
 "metadata": {
  "kernelspec": {
   "display_name": "Python 3 (ipykernel)",
   "language": "python",
   "name": "python3"
  },
  "language_info": {
   "codemirror_mode": {
    "name": "ipython",
    "version": 3
   },
   "file_extension": ".py",
   "mimetype": "text/x-python",
   "name": "python",
   "nbconvert_exporter": "python",
   "pygments_lexer": "ipython3",
   "version": "3.9.10"
  }
 },
 "nbformat": 4,
 "nbformat_minor": 5
}
